{
 "cells": [
  {
   "cell_type": "markdown",
   "metadata": {},
   "source": [
    "# Libraries:"
   ]
  },
  {
   "cell_type": "code",
   "execution_count": 1,
   "metadata": {},
   "outputs": [],
   "source": [
    "import numpy as np\n",
    "import sympy as sp"
   ]
  },
  {
   "cell_type": "markdown",
   "metadata": {},
   "source": []
  },
  {
   "cell_type": "code",
   "execution_count": null,
   "metadata": {},
   "outputs": [],
   "source": []
  },
  {
   "cell_type": "code",
   "execution_count": 40,
   "metadata": {},
   "outputs": [],
   "source": [
    "lepton_polarization = sp.Symbol('lambda')\n",
    "target_polarization = sp.Symbol('lambda')\n",
    "squared_Q_momentum_transfer = sp.Symbol('Q^2')\n",
    "x_Bjorken = sp.Symbol('x_B')\n",
    "squared_hadronic_momentum_transfer_t = sp.Symbol('t')\n",
    "azimuthal_phi = sp.Symbol('phi')\n",
    "epsilon = sp.Symbol('epsilon')\n",
    "lepton_energy_fraction_y = sp.Symbol('y')\n",
    "k_shorthand = sp.Symbol('K')\n",
    "Dirac_form_factor_F1 = sp.Symbol('F1')\n",
    "Pauli_form_factor_F2 = sp.Symbol('F2') \n",
    "_MASS_OF_PROTON_IN_GEV = sp.Symbol('m_p')"
   ]
  },
  {
   "cell_type": "markdown",
   "metadata": {},
   "source": [
    "## Coding | $c_{0, \\text{unp}}^{BH}$"
   ]
  },
  {
   "cell_type": "code",
   "execution_count": 41,
   "metadata": {},
   "outputs": [],
   "source": [
    "# (1): Calculate the common appearance of F1 + F2:\n",
    "addition_of_form_factors_squared = (Dirac_form_factor_F1 + Pauli_form_factor_F2)**2\n",
    "\n",
    "# (2): Calculate the common appearance of a weighted sum of F1 and F2:\n",
    "weighted_combination_of_form_factors = Dirac_form_factor_F1**2 - ((squared_hadronic_momentum_transfer_t / (4. * _MASS_OF_PROTON_IN_GEV**2)) * Pauli_form_factor_F2**2)\n",
    "\n",
    "# (3): Calculate the common appearance of delta^{2} / Q^{2} = t / Q^{2}\n",
    "t_over_Q_squared = squared_hadronic_momentum_transfer_t / squared_Q_momentum_transfer\n",
    "\n",
    "# (4):  The first line that contributes to c^{(0)}_{BH}:\n",
    "first_line = 8. * k_shorthand**2 * (((2. + 3. * epsilon**2) * weighted_combination_of_form_factors / t_over_Q_squared) + (2. * x_Bjorken**2 * addition_of_form_factors_squared))\n",
    "\n",
    "# (5): The first part of the second line:\n",
    "second_line_first_part = (2. + epsilon**2) * ((4. * x_Bjorken**2 * _MASS_OF_PROTON_IN_GEV**2 / squared_hadronic_momentum_transfer_t) * (1. + t_over_Q_squared)**2 + 4. * (1 - x_Bjorken) * (1. + (x_Bjorken * t_over_Q_squared) )) * weighted_combination_of_form_factors\n",
    "\n",
    "# (6): The second part of the second line:\n",
    "second_line_second_part = 4. * x_Bjorken**2 * (x_Bjorken + (1. - x_Bjorken + (epsilon**2 / 2.)) * (1 - t_over_Q_squared)**2 - x_Bjorken * (1. - 2. * x_Bjorken) * t_over_Q_squared**2) * addition_of_form_factors_squared\n",
    "\n",
    "# (7): The second line in its entirety, which is just a prefactor times the addition of the two parts calculated earlier:\n",
    "second_line = (2. - lepton_energy_fraction_y)**2 * (second_line_first_part + second_line_second_part)\n",
    "\n",
    "# (8): The third line:\n",
    "third_line = 8. * (1. + epsilon**2) * (1. - lepton_energy_fraction_y - (epsilon**2 * lepton_energy_fraction_y**2 / 4.)) * (2. * epsilon**2 * (1 - (squared_hadronic_momentum_transfer_t / (4. * _MASS_OF_PROTON_IN_GEV**2)) * weighted_combination_of_form_factors) - x_Bjorken**2 * (1 - t_over_Q_squared)**2 * addition_of_form_factors_squared)\n",
    "\n",
    "# (9): Add everything up to obtain the first coefficient:\n",
    "c0_unpolarized_BH = first_line + second_line + third_line"
   ]
  },
  {
   "cell_type": "code",
   "execution_count": 42,
   "metadata": {},
   "outputs": [],
   "source": [
    "c_0_unpolarized_bh_function = sp.lambdify([\n",
    "        squared_Q_momentum_transfer, \n",
    "        x_Bjorken, \n",
    "        squared_hadronic_momentum_transfer_t,\n",
    "        epsilon,\n",
    "        lepton_energy_fraction_y,\n",
    "        k_shorthand,\n",
    "        Dirac_form_factor_F1, \n",
    "        Pauli_form_factor_F2, \n",
    "    ], c0_unpolarized_BH, 'numpy')"
   ]
  },
  {
   "cell_type": "markdown",
   "metadata": {},
   "source": [
    "# Testing | $c_{0, \\text{unp}}^{BH}$"
   ]
  },
  {
   "cell_type": "code",
   "execution_count": 51,
   "metadata": {},
   "outputs": [
    {
     "data": {
      "text/latex": [
       "$\\displaystyle 5.26712827212672$"
      ],
      "text/plain": [
       "5.26712827212672"
      ]
     },
     "execution_count": 51,
     "metadata": {},
     "output_type": "execute_result"
    }
   ],
   "source": [
    "c_0_unpolarized_bh_function(\n",
    "    1.8200000524520874,\n",
    "    0.34299999475479126,\n",
    "    -0.1720000058412552,\n",
    "    0.477109,\n",
    "    0.491757,\n",
    "    0.081441,\n",
    "    0.70236,\n",
    "    1.108069).subs({_MASS_OF_PROTON_IN_GEV: .93827208816})"
   ]
  },
  {
   "cell_type": "markdown",
   "metadata": {},
   "source": [
    "## Coding | $c_{1, \\text{unp}}^{BH}$"
   ]
  },
  {
   "cell_type": "code",
   "execution_count": 49,
   "metadata": {},
   "outputs": [],
   "source": [
    "# (1): Calculate the common appearance of F1 + F2:\n",
    "addition_of_form_factors_squared = (Dirac_form_factor_F1 + Pauli_form_factor_F2)**2\n",
    "\n",
    "# (2): Calculate the common appearance of a weighted sum of F1 and F2:\n",
    "weighted_combination_of_form_factors = Dirac_form_factor_F1**2 - ((squared_hadronic_momentum_transfer_t / (4. * _MASS_OF_PROTON_IN_GEV**2)) * Pauli_form_factor_F2**2)\n",
    "\n",
    "# (3):  The first part of the first line:\n",
    "first_line_first_part = ((4. * x_Bjorken**2 * _MASS_OF_PROTON_IN_GEV**2 / squared_hadronic_momentum_transfer_t) - 2. * x_Bjorken - epsilon**2) * weighted_combination_of_form_factors\n",
    "\n",
    "# (4): The first part of the second line:\n",
    "first_line_second_part = 2. * x_Bjorken**2 * (1. - (1. - 2. * x_Bjorken) * (squared_hadronic_momentum_transfer_t / squared_Q_momentum_transfer)) * addition_of_form_factors_squared\n",
    "\n",
    "# (5): Multiply by the prefactor to obtain c^{(1)}_{BH}\n",
    "c1_unpolarized_BH = 8. * k_shorthand * (2. - lepton_energy_fraction_y) * (first_line_first_part + first_line_second_part)"
   ]
  },
  {
   "cell_type": "code",
   "execution_count": 50,
   "metadata": {},
   "outputs": [],
   "source": [
    "c_1_unpolarized_bh_function = sp.lambdify([\n",
    "        squared_Q_momentum_transfer, \n",
    "        x_Bjorken, \n",
    "        squared_hadronic_momentum_transfer_t,\n",
    "        epsilon,\n",
    "        lepton_energy_fraction_y,\n",
    "        k_shorthand,\n",
    "        Dirac_form_factor_F1, \n",
    "        Pauli_form_factor_F2, \n",
    "    ], c1_unpolarized_BH, 'numpy')"
   ]
  },
  {
   "cell_type": "markdown",
   "metadata": {},
   "source": [
    "# Testing | $c_{1, \\text{unp}}^{BH}$"
   ]
  },
  {
   "cell_type": "code",
   "execution_count": 52,
   "metadata": {},
   "outputs": [
    {
     "data": {
      "text/latex": [
       "$\\displaystyle -1.02595491506419$"
      ],
      "text/plain": [
       "-1.02595491506419"
      ]
     },
     "execution_count": 52,
     "metadata": {},
     "output_type": "execute_result"
    }
   ],
   "source": [
    "c_1_unpolarized_bh_function(\n",
    "    1.8200000524520874,\n",
    "    0.34299999475479126,\n",
    "    -0.1720000058412552,\n",
    "    0.477109,\n",
    "    0.491757,\n",
    "    0.081441,\n",
    "    0.70236,\n",
    "    1.108069).subs({_MASS_OF_PROTON_IN_GEV: .93827208816})"
   ]
  },
  {
   "cell_type": "markdown",
   "metadata": {},
   "source": []
  }
 ],
 "metadata": {
  "kernelspec": {
   "display_name": "Python 3",
   "language": "python",
   "name": "python3"
  },
  "language_info": {
   "codemirror_mode": {
    "name": "ipython",
    "version": 3
   },
   "file_extension": ".py",
   "mimetype": "text/x-python",
   "name": "python",
   "nbconvert_exporter": "python",
   "pygments_lexer": "ipython3",
   "version": "3.10.5"
  }
 },
 "nbformat": 4,
 "nbformat_minor": 2
}
